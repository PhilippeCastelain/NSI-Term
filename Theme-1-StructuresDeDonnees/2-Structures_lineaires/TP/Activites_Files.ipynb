{
 "cells": [
  {
   "cell_type": "markdown",
   "metadata": {},
   "source": [
    "Activités sur les files\n",
    "==="
   ]
  },
  {
   "cell_type": "markdown",
   "metadata": {},
   "source": [
    "# Activité 1 : Suppression d'une tâche d'impression\n",
    "\n",
    "Les tâches d'impression sont gérées par une file : \n",
    "- chaque nouvelle tâche est ajoutée (enfilée) dans la file.\n",
    "- les tâches sont traitées dans l'ordre d'arrivée : première arrivée, première traitée.\n",
    "- dès qu'une tâche est traitée, elle est retirée (défilée) de la file.\n",
    "\n",
    "On souhaite écrire un algorithme permettant de supprimer une tâche d'impression (qui est déjà dans la file).\n",
    "\n",
    "**Décontextualisation** : les tâches d'impression sont repérées par un identifiant qui peut être vu comme un numéro unique : la file d'attente des impressions est une file d'entiers tous distincts.\n",
    "\n",
    "Par exemple, si la file d'attente des tâches d'impression est $\\text{< 3, 17, 5, 10 <}$ et que l'on souhaite annuler la tâche d'impression $\\text{5}$, l'algorithme doit retirer l'entier $\\text{5}$ de la file qui devient alors $\\text{< 3, 17, 10 <}$.\n",
    "\n",
    "**Question 1** : Donnez la **spécification** de la fonction `annuler_impression` permettant d'annuler une tâche d'impression de la file d'attente des impressions.\n",
    "\n",
    "*Rappel : Donner la spécification d'une fonction, c'est donner son profil, c'est à dire le type et l'ordre de ses paramètres et le type de son résultat, ainsi que le nom des paramètres et une description du résultat.*  "
   ]
  },
  {
   "cell_type": "markdown",
   "metadata": {},
   "source": [
    "*Réponse* :\n"
   ]
  },
  {
   "cell_type": "markdown",
   "metadata": {},
   "source": [
    "**Question 2** : Proposez un **algorithme** pour cette fonction."
   ]
  },
  {
   "cell_type": "markdown",
   "metadata": {},
   "source": [
    "*Réponse* : \n"
   ]
  },
  {
   "cell_type": "markdown",
   "metadata": {},
   "source": [
    "**Question 3** : Programmez cette fonction en Python. *Vous testerez sa correction*."
   ]
  },
  {
   "cell_type": "code",
   "execution_count": 8,
   "metadata": {},
   "outputs": [],
   "source": [
    "class File:    \n",
    "    def __init__(self):\n",
    "        self.contenu = []\n",
    "            \n",
    "    def enfiler(self, e):\n",
    "        self.contenu.append(e)\n",
    "                    \n",
    "    def defiler(self):\n",
    "        assert self.taille != 0, \"on ne peut pas défiler une file vide\"\n",
    "        return self.contenu.pop(0)\n",
    "            \n",
    "    def premier(self):\n",
    "        assert self.taille != 0, \"une file vide n'a pas de premier élément\"\n",
    "        return self.contenu[0]\n",
    "    \n",
    "    def taille(self):\n",
    "        return len(self.contenu)\n",
    "    \n",
    "    # pour représenter la File\n",
    "    def __repr__(self):\n",
    "        ch = \"\"\n",
    "        for e in self.contenu:\n",
    "            ch = ch + str(e) + \",\"\n",
    "        ch = ch[:-1] # pour enlever la dernière virgule\n",
    "        ch = \"<\" + ch + \"<\"\n",
    "        return ch\n",
    "    \n",
    "# à vous de jouer"
   ]
  },
  {
   "cell_type": "markdown",
   "metadata": {},
   "source": [
    "# Activité 2 : Deuxième implémentation d'une file (avec deux piles)\n",
    "\n",
    "On veut réaliser une implémentation objet d'une *file* en utilisant deux piles. \n",
    "\n",
    "Vous utiliserez l'implémentation suivante d'une pile pour travailler."
   ]
  },
  {
   "cell_type": "code",
   "execution_count": null,
   "metadata": {},
   "outputs": [],
   "source": [
    "class Pile:    \n",
    "    def __init__(self):\n",
    "        self.contenu = []\n",
    "            \n",
    "    def empiler(self, e):\n",
    "        self.contenu.append(e)\n",
    "                    \n",
    "    def depiler(self):\n",
    "        assert self.taille != 0, \"on ne peut pas dépiler une pile vide\"\n",
    "        self.contenu.pop()\n",
    "            \n",
    "    def sommet(self):\n",
    "        assert self.taille != 0, \"une pile vide n'a pas de sommet\"\n",
    "        return self.contenu[-1]\n",
    "    \n",
    "    def taille(self):\n",
    "        return len(self.contenu)\n",
    "    \n",
    "    # pour représenter la Pile\n",
    "    def __repr__(self):\n",
    "        ch = \"\"\n",
    "        for e in self.contenu:\n",
    "            ch = str(e) + \",\" + ch  # ne pas oublier de convertir les éléments en chaine de caractères\n",
    "        ch = ch[:-1] # pour enlever la dernière virgule\n",
    "        ch = \">\" + ch + \"]\"\n",
    "        return ch"
   ]
  },
  {
   "cell_type": "markdown",
   "metadata": {},
   "source": [
    "Vous devez donc implémenter une classe `File` permettant les opérations suivantes :\n",
    "\n",
    "- création d'une file vide\n",
    "- `enfiler` : ajout en queue de file\n",
    "- `defiler` : renvoie le premier élement de la file et retire cet élément de la file\n",
    "- `__len__` : accès au nombre d'éléments\n",
    "\n",
    "**Aide** : \n",
    "- Opération `enfiler` (simple) : C'est toujours dans l'une des deux piles (par exemple `pA`) que l'on empile un nouvel élément à enfiler. \n",
    "- Opération `defiler` (compliquée) : \n",
    "    - Si l'autre pile (`pB`) n'est pas vide, son sommet est le premier élément de la file (celui à défiler)\n",
    "    - Sinon (si `pB` est vide), le premier élément de la file (celui à défiler) est au fond de `pA`. On peut alors \"retourner\" `pA` sur `pB` pour le premier élément de la file arrive au sommet de `pB`.\n",
    "- Opération `__len__` (simple) : il suffit d'utiliser la méthode `taille` définie dans la classe `Pile`.\n",
    "\n",
    "**Question** : Complétez les méthodes `enfiler`, `__len__` et `defiler` de la classe `File` suivante qui implémente une *file* avec deux piles."
   ]
  },
  {
   "cell_type": "code",
   "execution_count": null,
   "metadata": {},
   "outputs": [],
   "source": [
    "class File:\n",
    "    \"\"\"File avec deux piles\"\"\"\n",
    "    \n",
    "    def __init__(self):\n",
    "        self.pA = Pile() # pA et pB sont les deux attributs de nos objets de la classe File\n",
    "        self.pB = Pile()\n",
    "    \n",
    "    def enfiler(self, e):\n",
    "        # à compléter\n",
    "        \n",
    "    \n",
    "    def __len__(self):\n",
    "        # à compléter\n",
    "        \n",
    "    \n",
    "    def defiler(self):\n",
    "        assert self.pA.taille() == 0 and self.pB.taille() == 0, \"on ne peut pas défiler une file vide\"\n",
    "        # à compléter\n",
    "        \n",
    "\n",
    "    \n",
    "    # La méthode __repr__ est définie pour que vous puissiez voir l'état d'une file\n",
    "    \n",
    "    def __repr__(self):\n",
    "        import copy\n",
    "        #print(\"pile A : \", repr(self.pA)) # pour voir le contenu des deux piles\n",
    "        #print(\"pile B : \", repr(self.pB))\n",
    "        \n",
    "        lstA = copy.copy(self.pA.contenu) # copie des list Python représentant nos deux piles\n",
    "        lstB = copy.copy(self.pB.contenu) # pour ne pas les modifier\n",
    "        lstB.reverse()  # on a besoin de renverser lstB pour avoir nos éléments dans l'ordre d'entrée\n",
    "        lst = lstB + lstA # et de concaténer lstB et lstA dans cet ordre\n",
    "                \n",
    "        # on construit ensuite la chaine \"<...<\" qui représente nos files\n",
    "        ch = \"\"\n",
    "        for e in lst:\n",
    "            ch = ch + str(e) + \",\"\n",
    "        ch = ch[:-1] # pour enlever la dernière virgule\n",
    "        ch = \"<\" + ch + \"<\"\n",
    "        return ch"
   ]
  },
  {
   "cell_type": "markdown",
   "metadata": {},
   "source": [
    "*Exemple* : le code\n",
    "```python\n",
    "F = File()\n",
    "print(\"file :\", F, \"\\t taille :\", len(F))\n",
    "F.enfiler(1)\n",
    "print(\"file :\", F, \"\\t taille :\", len(F))\n",
    "F.enfiler(2)\n",
    "print(\"file :\", F, \"\\t taille :\", len(F))\n",
    "F.enfiler(3)\n",
    "print(\"file :\", F, \"\\t taille :\", len(F))\n",
    "F.defiler()\n",
    "print(\"file :\", F, \"\\t taille :\", len(F))\n",
    "F.enfiler(4)\n",
    "print(\"file :\", F, \"\\t taille :\", len(F))\n",
    "```\n",
    "doit produire l'affichage\n",
    "```\n",
    "file : << \t taille : 0\n",
    "file : <1< \t taille : 1\n",
    "file : <1,2< \t taille : 2\n",
    "file : <1,2,3< \t taille : 3\n",
    "file : <2,3< \t taille : 2\n",
    "file : <2,3,4< \t taille : 3\n",
    "```"
   ]
  }
 ],
 "metadata": {
  "kernelspec": {
   "display_name": "Python 3",
   "language": "python",
   "name": "python3"
  },
  "language_info": {
   "codemirror_mode": {
    "name": "ipython",
    "version": 3
   },
   "file_extension": ".py",
   "mimetype": "text/x-python",
   "name": "python",
   "nbconvert_exporter": "python",
   "pygments_lexer": "ipython3",
   "version": "3.7.7"
  }
 },
 "nbformat": 4,
 "nbformat_minor": 2
}
